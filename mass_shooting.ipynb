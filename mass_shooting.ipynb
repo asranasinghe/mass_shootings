{
 "cells": [
  {
   "cell_type": "markdown",
   "metadata": {},
   "source": [
    "#### Mass Shootings Analysis"
   ]
  },
  {
   "cell_type": "code",
   "execution_count": 1,
   "metadata": {},
   "outputs": [],
   "source": [
    "import requests\n",
    "import pandas as pd\n",
    "import numpy as np\n",
    "import re"
   ]
  },
  {
   "cell_type": "markdown",
   "metadata": {},
   "source": [
    "##### Load Data"
   ]
  },
  {
   "cell_type": "code",
   "execution_count": 22,
   "metadata": {},
   "outputs": [
    {
     "data": {
      "text/html": [
       "<div>\n",
       "<style scoped>\n",
       "    .dataframe tbody tr th:only-of-type {\n",
       "        vertical-align: middle;\n",
       "    }\n",
       "\n",
       "    .dataframe tbody tr th {\n",
       "        vertical-align: top;\n",
       "    }\n",
       "\n",
       "    .dataframe thead th {\n",
       "        text-align: right;\n",
       "    }\n",
       "</style>\n",
       "<table border=\"1\" class=\"dataframe\">\n",
       "  <thead>\n",
       "    <tr style=\"text-align: right;\">\n",
       "      <th></th>\n",
       "      <th>Date</th>\n",
       "      <th>Location</th>\n",
       "      <th>Dead</th>\n",
       "      <th>Injured</th>\n",
       "      <th>Total</th>\n",
       "      <th>Description</th>\n",
       "      <th>State</th>\n",
       "      <th>Year</th>\n",
       "    </tr>\n",
       "  </thead>\n",
       "  <tbody>\n",
       "    <tr>\n",
       "      <th>0</th>\n",
       "      <td>November 2, 1999</td>\n",
       "      <td>Honolulu, Hawaii</td>\n",
       "      <td>7</td>\n",
       "      <td>0</td>\n",
       "      <td>7</td>\n",
       "      <td>1999 Honolulu shootings: A service technician ...</td>\n",
       "      <td>Hawaii</td>\n",
       "      <td>1999</td>\n",
       "    </tr>\n",
       "    <tr>\n",
       "      <th>1</th>\n",
       "      <td>September 15, 1999</td>\n",
       "      <td>Fort Worth, Texas</td>\n",
       "      <td>8</td>\n",
       "      <td>7</td>\n",
       "      <td>15</td>\n",
       "      <td>Wedgwood Baptist Church shooting: During a con...</td>\n",
       "      <td>Texas</td>\n",
       "      <td>1999</td>\n",
       "    </tr>\n",
       "    <tr>\n",
       "      <th>2</th>\n",
       "      <td>August 10, 1999</td>\n",
       "      <td>Los Angeles, California</td>\n",
       "      <td>1</td>\n",
       "      <td>5</td>\n",
       "      <td>6</td>\n",
       "      <td>Los Angeles Jewish Community Center shooting: ...</td>\n",
       "      <td>California</td>\n",
       "      <td>1999</td>\n",
       "    </tr>\n",
       "    <tr>\n",
       "      <th>3</th>\n",
       "      <td>July 27–29, 1999</td>\n",
       "      <td>Stockbridge and Atlanta, Georgia</td>\n",
       "      <td>10</td>\n",
       "      <td>13</td>\n",
       "      <td>23</td>\n",
       "      <td>1999 Atlanta day trading firm shootings: The p...</td>\n",
       "      <td>Georgia</td>\n",
       "      <td>1999</td>\n",
       "    </tr>\n",
       "    <tr>\n",
       "      <th>4</th>\n",
       "      <td>July 2–4, 1999</td>\n",
       "      <td>Chicago, Urbana, Springfield, and Decatur, Ill...</td>\n",
       "      <td>3</td>\n",
       "      <td>10</td>\n",
       "      <td>13</td>\n",
       "      <td>1999 Independence Day weekend shootings: Part ...</td>\n",
       "      <td>Indiana</td>\n",
       "      <td>1999</td>\n",
       "    </tr>\n",
       "  </tbody>\n",
       "</table>\n",
       "</div>"
      ],
      "text/plain": [
       "                 Date                                           Location  \\\n",
       "0    November 2, 1999                                   Honolulu, Hawaii   \n",
       "1  September 15, 1999                                  Fort Worth, Texas   \n",
       "2     August 10, 1999                            Los Angeles, California   \n",
       "3    July 27–29, 1999                   Stockbridge and Atlanta, Georgia   \n",
       "4      July 2–4, 1999  Chicago, Urbana, Springfield, and Decatur, Ill...   \n",
       "\n",
       "   Dead Injured  Total                                        Description  \\\n",
       "0     7       0      7  1999 Honolulu shootings: A service technician ...   \n",
       "1     8       7     15  Wedgwood Baptist Church shooting: During a con...   \n",
       "2     1       5      6  Los Angeles Jewish Community Center shooting: ...   \n",
       "3    10      13     23  1999 Atlanta day trading firm shootings: The p...   \n",
       "4     3      10     13  1999 Independence Day weekend shootings: Part ...   \n",
       "\n",
       "         State  Year  \n",
       "0       Hawaii  1999  \n",
       "1        Texas  1999  \n",
       "2   California  1999  \n",
       "3      Georgia  1999  \n",
       "4      Indiana  1999  "
      ]
     },
     "execution_count": 22,
     "metadata": {},
     "output_type": "execute_result"
    }
   ],
   "source": [
    "# Get mass shooting data from Wikipedia\n",
    "\n",
    "url = 'https://en.wikipedia.org/wiki/List_of_mass_shootings_in_the_United_States'\n",
    "html = requests.get(url).content\n",
    "df_list = pd.read_html(html)\n",
    "\n",
    "# Concat shooting tables (90s, 00s,...)\n",
    "\n",
    "shootings = pd.DataFrame()\n",
    "\n",
    "for idx in range(16):\n",
    "\n",
    "    new = df_list[idx]\n",
    "    shootings = pd.concat([new, shootings])\n",
    "\n",
    "nineties = df_list[23]\n",
    "shootings = pd.concat([nineties, shootings])\n",
    "\n",
    "\n",
    "# Create relevant columns\n",
    "\n",
    "shootings['State'] = shootings.Location.str.split(',').apply(lambda x: x[-1]).astype('str')\n",
    "shootings['Year'] = shootings.Date.str.split(' ').apply(lambda x: x[-1]).astype('int')\n",
    "shootings[['Dead']] = shootings[['Dead']].apply(lambda x: x.str.replace(r'\\[.*?\\]|\\(.*?\\)', '', regex=True),  axis = 1).astype('int')\n",
    "\n",
    "shootings.head()"
   ]
  },
  {
   "cell_type": "code",
   "execution_count": 29,
   "metadata": {},
   "outputs": [],
   "source": [
    "shootings.to_csv('mass_shooting_list.csv')"
   ]
  },
  {
   "cell_type": "code",
   "execution_count": null,
   "metadata": {},
   "outputs": [],
   "source": []
  }
 ],
 "metadata": {
  "kernelspec": {
   "display_name": "Python 3.9.4 64-bit ('3.9.4')",
   "language": "python",
   "name": "python3"
  },
  "language_info": {
   "codemirror_mode": {
    "name": "ipython",
    "version": 3
   },
   "file_extension": ".py",
   "mimetype": "text/x-python",
   "name": "python",
   "nbconvert_exporter": "python",
   "pygments_lexer": "ipython3",
   "version": "3.9.4"
  },
  "orig_nbformat": 4,
  "vscode": {
   "interpreter": {
    "hash": "8c243c66734fe50b5ef8f11b68afc2d226a91d969c557ccbd39253ddac204ddc"
   }
  }
 },
 "nbformat": 4,
 "nbformat_minor": 2
}
